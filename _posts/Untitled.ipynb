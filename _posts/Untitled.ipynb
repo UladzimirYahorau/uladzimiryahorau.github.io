{
 "cells": [
  {
   "cell_type": "markdown",
   "metadata": {},
   "source": [
    "---\n",
    "layout: post\n",
    "comments: true\n",
    "title: \"First Post\"\n",
    "date: 2017-08-20 00:23:00\n",
    "tags: math probability machine-learning optimization statistics cool-stuff\n",
    "image: \"GAN.png\"\n",
    "---\n",
    "\n",
    "> This is the first test post of this blog.\n",
    "\n",
    "<!--more-->\n",
    "\n",
    "\n",
    "\n",
    "\n",
    "\n",
    "{: class=\"table-of-content\"}\n",
    "* TOC\n",
    "{:toc}"
   ]
  },
  {
   "cell_type": "code",
   "execution_count": null,
   "metadata": {},
   "outputs": [],
   "source": []
  }
 ],
 "metadata": {
  "kernelspec": {
   "display_name": "Python 3",
   "language": "python",
   "name": "python3"
  },
  "language_info": {
   "codemirror_mode": {
    "name": "ipython",
    "version": 3
   },
   "file_extension": ".py",
   "mimetype": "text/x-python",
   "name": "python",
   "nbconvert_exporter": "python",
   "pygments_lexer": "ipython3",
   "version": "3.6.5"
  }
 },
 "nbformat": 4,
 "nbformat_minor": 2
}
